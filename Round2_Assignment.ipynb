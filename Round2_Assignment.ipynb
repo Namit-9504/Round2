{
 "cells": [
  {
   "cell_type": "code",
   "execution_count": 144,
   "id": "975bdc49",
   "metadata": {},
   "outputs": [],
   "source": [
    "import pandas as pd"
   ]
  },
  {
   "cell_type": "code",
   "execution_count": 145,
   "id": "51a81ed2",
   "metadata": {},
   "outputs": [],
   "source": [
    "user_ids = pd.read_csv(\"User IDs.csv\", index_col=[0])\n",
    "rigorbuilder_raw = pd.read_csv(\"Rigorbuilder RAW.csv\", index_col=[0])"
   ]
  },
  {
   "cell_type": "code",
   "execution_count": 146,
   "id": "33fad2f5",
   "metadata": {},
   "outputs": [],
   "source": [
    "data = user_ids.merge(rigorbuilder_raw, on=['S No']).drop(['name', 'uid'], axis=1).sort_values(\n",
    "    by=['total_statements', 'total_reasons', 'Name'], ascending=False)"
   ]
  },
  {
   "cell_type": "code",
   "execution_count": 147,
   "id": "2341082c",
   "metadata": {},
   "outputs": [],
   "source": [
    "data['Rank'] = [i for i in range(1, len(data)+1)]"
   ]
  },
  {
   "cell_type": "code",
   "execution_count": 148,
   "id": "8f3412c8",
   "metadata": {},
   "outputs": [],
   "source": [
    "data.rename(columns={'User ID':'UID', 'total_statements':'No. of Statements', 'total_reasons':'No. of Reasons'}, \n",
    "            inplace=True)\n",
    "data.reset_index(drop=True, inplace=True)"
   ]
  },
  {
   "cell_type": "code",
   "execution_count": 149,
   "id": "69562069",
   "metadata": {},
   "outputs": [],
   "source": [
    "data[['Rank', 'Name', 'UID', 'No. of Statements', 'No. of Reasons']].to_csv('Learderboard Indivisual.csv', index=False)\n"
   ]
  },
  {
   "cell_type": "code",
   "execution_count": 150,
   "id": "df57c3ca",
   "metadata": {},
   "outputs": [],
   "source": [
    "data.drop(columns=['UID', 'Rank', 'Name'], inplace=True)"
   ]
  },
  {
   "cell_type": "code",
   "execution_count": 161,
   "id": "3dbdff7c",
   "metadata": {},
   "outputs": [],
   "source": [
    "data.at[17, \"Team Name\"] = \"BrandTech Lab\""
   ]
  },
  {
   "cell_type": "code",
   "execution_count": 162,
   "id": "cdca27a1",
   "metadata": {},
   "outputs": [],
   "source": [
    "grouped_data = data.groupby(\"Team Name\", )"
   ]
  },
  {
   "cell_type": "code",
   "execution_count": 163,
   "id": "96c1fcb1",
   "metadata": {},
   "outputs": [],
   "source": [
    "grouped_data = grouped_data.mean()"
   ]
  },
  {
   "cell_type": "code",
   "execution_count": 164,
   "id": "b6576405",
   "metadata": {},
   "outputs": [],
   "source": [
    "grouped_data.sort_values(by=['No. of Statements','No. of Reasons', 'Team Name' ], ascending=False, inplace=True)"
   ]
  },
  {
   "cell_type": "code",
   "execution_count": 165,
   "id": "774a9d6e",
   "metadata": {},
   "outputs": [],
   "source": [
    "grouped_data.rename(columns={'No. of Statements': 'Average Statements', 'No. of Reasons': 'Average Reasons'}, inplace=True)"
   ]
  },
  {
   "cell_type": "code",
   "execution_count": 166,
   "id": "2214d5c9",
   "metadata": {},
   "outputs": [],
   "source": [
    "grouped_data.insert(0, 'Team Rank', [i for i in range(1, len(grouped_data)+1)])\n",
    "grouped_data = grouped_data.round(2)"
   ]
  },
  {
   "cell_type": "code",
   "execution_count": 167,
   "id": "05be430a",
   "metadata": {},
   "outputs": [],
   "source": [
    "grouped_data.to_csv(\"Leaderboard TeamWise.csv\")"
   ]
  }
 ],
 "metadata": {
  "kernelspec": {
   "display_name": "Python 3 (ipykernel)",
   "language": "python",
   "name": "python3"
  },
  "language_info": {
   "codemirror_mode": {
    "name": "ipython",
    "version": 3
   },
   "file_extension": ".py",
   "mimetype": "text/x-python",
   "name": "python",
   "nbconvert_exporter": "python",
   "pygments_lexer": "ipython3",
   "version": "3.9.12"
  }
 },
 "nbformat": 4,
 "nbformat_minor": 5
}
